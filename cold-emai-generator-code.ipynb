{
 "cells": [
  {
   "cell_type": "code",
   "execution_count": 1,
   "id": "57b46de2",
   "metadata": {},
   "outputs": [],
   "source": [
    "from langchain_groq import ChatGroq"
   ]
  },
  {
   "cell_type": "code",
   "execution_count": 2,
   "id": "3ec388d7",
   "metadata": {},
   "outputs": [
    {
     "name": "stdout",
     "output_type": "stream",
     "text": [
      "The first person to land on the moon was Neil Armstrong. He stepped onto the lunar surface on July 20, 1969, as part of the Apollo 11 mission.\n"
     ]
    }
   ],
   "source": [
    "llm = ChatGroq(\n",
    "    temperature=0, \n",
    "    groq_api_key='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', \n",
    "    model_name=\"llama-3.1-70b-versatile\"\n",
    ")\n",
    "response = llm.invoke(\"The first person to land on moon was ...\")\n",
    "print(response.content)"
   ]
  },
  {
   "cell_type": "code",
   "execution_count": 3,
   "id": "fc87ae7e",
   "metadata": {},
   "outputs": [
    {
     "name": "stderr",
     "output_type": "stream",
     "text": [
      "USER_AGENT environment variable not set, consider setting it to identify your requests.\n"
     ]
    },
    {
     "name": "stdout",
     "output_type": "stream",
     "text": [
      "\n",
      "         Job Details | Atlassian                                  Close   View this page in your language?   All languages   Choose your language    中文   Deutsch   English   Español   Français   Italiano   한국어   Nederlands   日本語   Português   Pусский   Polski                            Try now     Products    Featured    Developers    Product Managers    IT professionals    Business Teams    Leadership Teams       Featured   Developers   Product Managers   IT professionals   Business Teams   Leadership Teams    See all products       Featured            Jira  Flexible project management             Confluence  Knowledge, all in one place             Jira Service Management  High-velocity service delivery             Trello  Organized & visualized work             Rovo NEW  Unlock enterprise knowledge             Jira Product Discovery NEW  Capture & prioritize ideas             Compass NEW  Optimize software health             Guard NEW  Enhanced cloud security             Loom NEW  Quick, async video updates          Developers            Jira  Flexible project management             Bitbucket  Collaborative code repos             Compass NEW  Optimize software health          Product Managers            Jira  Flexible project management             Confluence  Knowledge, all in one place             Jira Product Discovery NEW  Capture & prioritize ideas          IT professionals            Jira Service Management  High-velocity service delivery             Guard NEW  Enhanced cloud security          Business Teams            Jira  Flexible project management             Confluence  Knowledge, all in one place             Trello  Organized & visualized work             Loom NEW  Quick, async video updates          Leadership Teams            Jira  Flexible project management             Confluence  Knowledge, all in one place             Loom NEW  Quick, async video updates             Jira Align  Enterprise-wide work planning & value             Back      Teams           Teams            Software  Ship high-quality, innovative software faster                Marketing  Collaborative strategies for marketing success                IT  Deliver exceptional operations and support services.               solution     Work Management     IT Service Management     Agile & DevOps       By team size     Enterprise     Small business     Startup     Non-profit       By industry     Retail     Telecommunications     Professional services     Government            Back      Why Atlassian           Why Atlassian        Integrations  Connect thousands of apps to your Atlassian products        Customers  Case studies & stories powered by teamwork        FedRAMP  Compliant solutions for the public sector        Resilience  Enterprise-grade & highly performant infrastructure        Platform  Our deeply integrated, reliable & secure platform        Trust center  Ensure your data’s security, compliance & availability            Back      Resources           Resources        Customer Support  Ask questions, report bugs & give us feedback        Find Partners  Consulting, training & product customization support        Migration Program  Step-by-step guidance for your Atlassian cloud migration        University  Learn and expand your skill set for all things Atlassian           support     General inquiries     Product Advice     Partner support     Enterprise support           Technical Support     Pricing and Billing     Developer support     Purchasing & Licensing       learn     Project Management     Agile     Community     Get Started           Project Collaboration     Team Playbook     Product Documentation            Back      Enterprise    More + Less -    Try now                  Back                  Try now                  Company              Customers     Careers          Careers Home Apply Engineering Careers Early Careers Awards Team Anywhere DEI and Sustainability Candidate Resources Talent Community       Back      Investors     Events     Blog     Contact    More + Less -               Careers              Browse Jobs     Engineering Careers     Early Careers     Team Anywhere     DEI and Sustainability     Candidate Resources           Candidate Resources Home Tips for Applying Interviewing Career Growth Benefits and Perks Talent Community Awards       Back     More + Less -           Site Reliability Engineer  Apply for this job    We are looking for an engineer who is passionate about scaling cloud services to join our growing SRE team. The SRE team owns the caching infrastructure, tooling, and automation that support Atlassian’s suite of Cloud products.We'd love it if you had an understanding of modern cloud infrastructure, programming expertise, operational experience and a desire to change the status quo. We're looking for an engineer who can analyze and help improve our services and processes to get us to an even higher level of reliability, performance, scalability, and cost efficiency.On your first day, we'll expect you to have:1+ years experience operating high-availability, fault-tolerant, scalable, distributed software in production: building monitoring into your code, tweaking dashboards, defining alerts, writing runbooks, etc.1+ years of hands-on experience with public cloud offerings (AWS components like EC2, CloudFormation, RDS / Aurora, Caches, SQS - or equivalents, e.g. in GCP / Azure).Familiarity with Unix / Linux operating systems.Great emphasis to debug, improve code, and automate routine tasks.Backend engineering experience in one or more prominent languages such as Java, Go or Python.Strong communication skills in written and verbal forms, and an ability to communicate complex technical issues to a range of technical and non-technical audiences (management, peers, clients)It would be great, but not mandatory if you had:Experience implementing caching solutions, strategies, and best practices.Experience in microservice architecture.Experience building web-services and clients using REST/GraphQL.      Apply for this job        Join the Atlassian Talent Community Don’t see an exact role match? No problem! Join our Talent Community and stay up-to-date on company and careers updates relevant to your career.  Join now               Choose your language Deutsch English Español Français Italiano 한국어 Nederlands 日本語 Polski Português русский 中文      Privacy Policy     Notice at Collection     Limit the Use of My Sensitive Personal Information     Terms      Impressum     Copyright © 2024 Atlassian                                  \n",
      "\n"
     ]
    }
   ],
   "source": [
    "from langchain_community.document_loaders import WebBaseLoader\n",
    "\n",
    "loader = WebBaseLoader(\"https://www.atlassian.com/company/careers/details/16968\")\n",
    "page_data = loader.load().pop().page_content\n",
    "print(page_data)"
   ]
  },
  {
   "cell_type": "code",
   "execution_count": 4,
   "id": "b4f42274",
   "metadata": {},
   "outputs": [
    {
     "data": {
      "text/plain": [
       "str"
      ]
     },
     "execution_count": 4,
     "metadata": {},
     "output_type": "execute_result"
    }
   ],
   "source": [
    "from langchain_core.prompts import PromptTemplate\n",
    "\n",
    "prompt_extract = PromptTemplate.from_template(\n",
    "        \"\"\"\n",
    "        ### SCRAPED TEXT FROM WEBSITE:\n",
    "        {page_data}\n",
    "        ### INSTRUCTION:\n",
    "        The scraped text is from the career's page of a website.\n",
    "        Your job is to extract the job postings and return them in JSON format containing the \n",
    "        following keys: `role`, `experience`, `skills` and `description`.\n",
    "        Only return the valid JSON.\n",
    "        ### VALID JSON (NO PREAMBLE):    \n",
    "        \"\"\"\n",
    ")\n",
    "\n",
    "chain_extract = prompt_extract | llm \n",
    "res = chain_extract.invoke(input={'page_data':page_data})\n",
    "type(res.content)"
   ]
  },
  {
   "cell_type": "code",
   "execution_count": 7,
   "id": "b78a6f23",
   "metadata": {},
   "outputs": [
    {
     "name": "stdout",
     "output_type": "stream",
     "text": [
      "<class 'dict'>\n",
      "{'role': 'Site Reliability Engineer', 'experience': ['1+ years experience operating high-availability, fault-tolerant, scalable, distributed software in production', '1+ years of hands-on experience with public cloud offerings (AWS components like EC2, CloudFormation, RDS / Aurora, Caches, SQS - or equivalents, e.g. in GCP / Azure)'], 'skills': ['Familiarity with Unix / Linux operating systems', 'Backend engineering experience in one or more prominent languages such as Java, Go or Python', 'Strong communication skills in written and verbal forms', 'Experience implementing caching solutions, strategies, and best practices', 'Experience in microservice architecture', 'Experience building web-services and clients using REST/GraphQL'], 'description': \"We are looking for an engineer who is passionate about scaling cloud services to join our growing SRE team. The SRE team owns the caching infrastructure, tooling, and automation that support Atlassian’s suite of Cloud products. We'd love it if you had an understanding of modern cloud infrastructure, programming expertise, operational experience and a desire to change the status quo. We're looking for an engineer who can analyze and help improve our services and processes to get us to an even higher level of reliability, performance, scalability, and cost efficiency.\"}\n"
     ]
    }
   ],
   "source": [
    "from langchain_core.output_parsers import JsonOutputParser\n",
    "\n",
    "json_parser = JsonOutputParser()\n",
    "json_res = json_parser.parse(res.content)\n",
    "\n",
    "# Ensure the output is a dictionary\n",
    "if isinstance(json_res, list) and len(json_res) > 0:\n",
    "    json_res = json_res[0] \n",
    "\n",
    "print(type(json_res)) \n",
    "print(json_res) "
   ]
  },
  {
   "cell_type": "code",
   "execution_count": 9,
   "id": "c20e2b78",
   "metadata": {},
   "outputs": [
    {
     "data": {
      "text/html": [
       "<div>\n",
       "<style scoped>\n",
       "    .dataframe tbody tr th:only-of-type {\n",
       "        vertical-align: middle;\n",
       "    }\n",
       "\n",
       "    .dataframe tbody tr th {\n",
       "        vertical-align: top;\n",
       "    }\n",
       "\n",
       "    .dataframe thead th {\n",
       "        text-align: right;\n",
       "    }\n",
       "</style>\n",
       "<table border=\"1\" class=\"dataframe\">\n",
       "  <thead>\n",
       "    <tr style=\"text-align: right;\">\n",
       "      <th></th>\n",
       "      <th>Techstack</th>\n",
       "      <th>Links</th>\n",
       "    </tr>\n",
       "  </thead>\n",
       "  <tbody>\n",
       "    <tr>\n",
       "      <th>0</th>\n",
       "      <td>AWS, Azure, Python, Go</td>\n",
       "      <td>https://example.com/aws-portfolio</td>\n",
       "    </tr>\n",
       "    <tr>\n",
       "      <th>1</th>\n",
       "      <td>React, Node.js, MongoDB</td>\n",
       "      <td>https://example.com/react-portfolio</td>\n",
       "    </tr>\n",
       "    <tr>\n",
       "      <th>2</th>\n",
       "      <td>Angular,.NET, SQL Server</td>\n",
       "      <td>https://example.com/angular-portfolio</td>\n",
       "    </tr>\n",
       "    <tr>\n",
       "      <th>3</th>\n",
       "      <td>Vue.js, Ruby on Rails, PostgreSQL</td>\n",
       "      <td>https://example.com/vue-portfolio</td>\n",
       "    </tr>\n",
       "    <tr>\n",
       "      <th>4</th>\n",
       "      <td>Python, Django, MySQL</td>\n",
       "      <td>https://example.com/python-portfolio</td>\n",
       "    </tr>\n",
       "    <tr>\n",
       "      <th>5</th>\n",
       "      <td>Java, Spring Boot, Oracle</td>\n",
       "      <td>https://example.com/java-portfolio</td>\n",
       "    </tr>\n",
       "    <tr>\n",
       "      <th>6</th>\n",
       "      <td>Flutter, Firebase, GraphQL</td>\n",
       "      <td>https://example.com/flutter-portfolio</td>\n",
       "    </tr>\n",
       "    <tr>\n",
       "      <th>7</th>\n",
       "      <td>WordPress, PHP, MySQL</td>\n",
       "      <td>https://example.com/wordpress-portfolio</td>\n",
       "    </tr>\n",
       "    <tr>\n",
       "      <th>8</th>\n",
       "      <td>Magento, PHP, MySQL</td>\n",
       "      <td>https://example.com/magento-portfolio</td>\n",
       "    </tr>\n",
       "    <tr>\n",
       "      <th>9</th>\n",
       "      <td>React Native, Node.js, MongoDB</td>\n",
       "      <td>https://example.com/react-native-portfolio</td>\n",
       "    </tr>\n",
       "    <tr>\n",
       "      <th>10</th>\n",
       "      <td>iOS, Swift, Core Data</td>\n",
       "      <td>https://example.com/ios-portfolio</td>\n",
       "    </tr>\n",
       "    <tr>\n",
       "      <th>11</th>\n",
       "      <td>Android, Java, Room Persistence</td>\n",
       "      <td>https://example.com/android-portfolio</td>\n",
       "    </tr>\n",
       "    <tr>\n",
       "      <th>12</th>\n",
       "      <td>Kotlin, Android, Firebase</td>\n",
       "      <td>https://example.com/kotlin-android-portfolio</td>\n",
       "    </tr>\n",
       "    <tr>\n",
       "      <th>13</th>\n",
       "      <td>Android TV, Kotlin, Android NDK</td>\n",
       "      <td>https://example.com/android-tv-portfolio</td>\n",
       "    </tr>\n",
       "    <tr>\n",
       "      <th>14</th>\n",
       "      <td>iOS, Swift, ARKit</td>\n",
       "      <td>https://example.com/ios-ar-portfolio</td>\n",
       "    </tr>\n",
       "    <tr>\n",
       "      <th>15</th>\n",
       "      <td>Cross-platform, Xamarin, Azure</td>\n",
       "      <td>https://example.com/xamarin-portfolio</td>\n",
       "    </tr>\n",
       "    <tr>\n",
       "      <th>16</th>\n",
       "      <td>Backend, Kotlin, Spring Boot</td>\n",
       "      <td>https://example.com/kotlin-backend-portfolio</td>\n",
       "    </tr>\n",
       "    <tr>\n",
       "      <th>17</th>\n",
       "      <td>Frontend, TypeScript, Angular</td>\n",
       "      <td>https://example.com/typescript-frontend-portfolio</td>\n",
       "    </tr>\n",
       "    <tr>\n",
       "      <th>18</th>\n",
       "      <td>Full-stack, JavaScript, Express.js</td>\n",
       "      <td>https://example.com/full-stack-js-portfolio</td>\n",
       "    </tr>\n",
       "    <tr>\n",
       "      <th>19</th>\n",
       "      <td>Machine Learning, Python, TensorFlow</td>\n",
       "      <td>https://example.com/ml-python-portfolio</td>\n",
       "    </tr>\n",
       "    <tr>\n",
       "      <th>20</th>\n",
       "      <td>DevOps, Jenkins, Docker</td>\n",
       "      <td>https://example.com/devops-portfolio</td>\n",
       "    </tr>\n",
       "    <tr>\n",
       "      <th>21</th>\n",
       "      <td>Cloud, AWS, GCP, Python</td>\n",
       "      <td>https://example.com/cloud-portfolio</td>\n",
       "    </tr>\n",
       "  </tbody>\n",
       "</table>\n",
       "</div>"
      ],
      "text/plain": [
       "                               Techstack  \\\n",
       "0                 AWS, Azure, Python, Go   \n",
       "1                React, Node.js, MongoDB   \n",
       "2               Angular,.NET, SQL Server   \n",
       "3      Vue.js, Ruby on Rails, PostgreSQL   \n",
       "4                  Python, Django, MySQL   \n",
       "5              Java, Spring Boot, Oracle   \n",
       "6             Flutter, Firebase, GraphQL   \n",
       "7                  WordPress, PHP, MySQL   \n",
       "8                    Magento, PHP, MySQL   \n",
       "9         React Native, Node.js, MongoDB   \n",
       "10                 iOS, Swift, Core Data   \n",
       "11       Android, Java, Room Persistence   \n",
       "12             Kotlin, Android, Firebase   \n",
       "13       Android TV, Kotlin, Android NDK   \n",
       "14                     iOS, Swift, ARKit   \n",
       "15        Cross-platform, Xamarin, Azure   \n",
       "16          Backend, Kotlin, Spring Boot   \n",
       "17         Frontend, TypeScript, Angular   \n",
       "18    Full-stack, JavaScript, Express.js   \n",
       "19  Machine Learning, Python, TensorFlow   \n",
       "20               DevOps, Jenkins, Docker   \n",
       "21               Cloud, AWS, GCP, Python   \n",
       "\n",
       "                                                Links  \n",
       "0                   https://example.com/aws-portfolio  \n",
       "1                 https://example.com/react-portfolio  \n",
       "2               https://example.com/angular-portfolio  \n",
       "3                   https://example.com/vue-portfolio  \n",
       "4                https://example.com/python-portfolio  \n",
       "5                  https://example.com/java-portfolio  \n",
       "6               https://example.com/flutter-portfolio  \n",
       "7             https://example.com/wordpress-portfolio  \n",
       "8               https://example.com/magento-portfolio  \n",
       "9          https://example.com/react-native-portfolio  \n",
       "10                  https://example.com/ios-portfolio  \n",
       "11              https://example.com/android-portfolio  \n",
       "12       https://example.com/kotlin-android-portfolio  \n",
       "13           https://example.com/android-tv-portfolio  \n",
       "14               https://example.com/ios-ar-portfolio  \n",
       "15              https://example.com/xamarin-portfolio  \n",
       "16       https://example.com/kotlin-backend-portfolio  \n",
       "17  https://example.com/typescript-frontend-portfolio  \n",
       "18        https://example.com/full-stack-js-portfolio  \n",
       "19            https://example.com/ml-python-portfolio  \n",
       "20               https://example.com/devops-portfolio  \n",
       "21                https://example.com/cloud-portfolio  "
      ]
     },
     "execution_count": 9,
     "metadata": {},
     "output_type": "execute_result"
    }
   ],
   "source": [
    "import pandas as pd\n",
    "\n",
    "df = pd.read_csv(\"my_portfolio.csv\")\n",
    "df"
   ]
  },
  {
   "cell_type": "code",
   "execution_count": 10,
   "id": "a0aa6d86",
   "metadata": {},
   "outputs": [],
   "source": [
    "import uuid\n",
    "import chromadb\n",
    "\n",
    "client = chromadb.PersistentClient('vectorstore')\n",
    "collection = client.get_or_create_collection(name=\"portfolio\")\n",
    "\n",
    "if not collection.count():\n",
    "    for _, row in df.iterrows():\n",
    "        collection.add(documents=row[\"Techstack\"],\n",
    "                       metadatas={\"links\": row[\"Links\"]},\n",
    "                       ids=[str(uuid.uuid4())])"
   ]
  },
  {
   "cell_type": "code",
   "execution_count": 17,
   "id": "00bc66b8",
   "metadata": {},
   "outputs": [
    {
     "data": {
      "text/plain": [
       "['Familiarity with Unix / Linux operating systems',\n",
       " 'Backend engineering experience in one or more prominent languages such as Java, Go or Python',\n",
       " 'Strong communication skills in written and verbal forms',\n",
       " 'Experience implementing caching solutions, strategies, and best practices',\n",
       " 'Experience in microservice architecture',\n",
       " 'Experience building web-services and clients using REST/GraphQL']"
      ]
     },
     "execution_count": 17,
     "metadata": {},
     "output_type": "execute_result"
    }
   ],
   "source": [
    "job = json_res\n",
    "job['skills']"
   ]
  },
  {
   "cell_type": "code",
   "execution_count": 18,
   "id": "c9984432",
   "metadata": {},
   "outputs": [
    {
     "data": {
      "text/plain": [
       "[[{'links': 'https://example.com/aws-portfolio'},\n",
       "  {'links': 'https://example.com/cloud-portfolio'}]]"
      ]
     },
     "execution_count": 18,
     "metadata": {},
     "output_type": "execute_result"
    }
   ],
   "source": [
    "links = collection.query(query_texts=[\"Experience in AWS\"], n_results=2).get('metadatas', [])\n",
    "links"
   ]
  },
  {
   "cell_type": "code",
   "execution_count": 20,
   "id": "6dca1f10",
   "metadata": {},
   "outputs": [
    {
     "name": "stdout",
     "output_type": "stream",
     "text": [
      "Subject: Expert Solutions for Scaling Cloud Services and Enhancing Reliability\n",
      "\n",
      "Dear Hiring Manager,\n",
      "\n",
      "I came across the Site Reliability Engineer role at Atlassian and was impressed by the company's commitment to delivering high-quality cloud services. As a Solutions Specialist at XYZ, I'd like to introduce our company's expertise in facilitating seamless integration of business processes through automated tools.\n",
      "\n",
      "Our team at XYZ has extensive experience in empowering enterprises with tailored solutions, fostering scalability, process optimization, cost reduction, and heightened overall efficiency. We believe our capabilities align perfectly with Atlassian's requirements for scaling cloud services and enhancing reliability.\n",
      "\n",
      "Our expertise in cloud infrastructure, programming, and operational experience make us an ideal partner for Atlassian's SRE team. We have hands-on experience with public cloud offerings, including AWS components like EC2, CloudFormation, RDS/Aurora, Caches, and SQS. Our team is well-versed in Unix/Linux operating systems, backend engineering in prominent languages like Java, Go, and Python, and has a strong understanding of microservice architecture and REST/GraphQL.\n",
      "\n",
      "We'd like to highlight our relevant portfolio, which showcases our capabilities in:\n",
      "\n",
      "* AWS Portfolio: https://example.com/aws-portfolio\n",
      "* Cloud Portfolio: https://example.com/cloud-portfolio\n",
      "\n",
      "These portfolios demonstrate our expertise in designing and implementing scalable, fault-tolerant, and high-performance cloud solutions. Our team is passionate about delivering innovative solutions that drive business growth and efficiency.\n",
      "\n",
      "I'd love to schedule a call to discuss how XYZ can support Atlassian's SRE team in achieving their goals. Please let me know if you're interested, and we can schedule a time that suits you.\n",
      "\n",
      "Best regards,\n",
      "\n",
      "Lokesh\n",
      "Solutions Specialist\n",
      "XYZ\n"
     ]
    }
   ],
   "source": [
    "prompt_email = PromptTemplate.from_template(\n",
    "        \"\"\"\n",
    "        ### JOB DESCRIPTION:\n",
    "        {job_description}\n",
    "        \n",
    "        ### INSTRUCTION:\n",
    "        You are Lokesh, a Solutions Specialist at XYZ company. XYZ is an AI & Software Consulting company dedicated to facilitating\n",
    "        the seamless integration of business processes through automated tools. \n",
    "        Over our experience, we have empowered numerous enterprises with tailored solutions, fostering scalability, \n",
    "        process optimization, cost reduction, and heightened overall efficiency. \n",
    "        Your job is to write a cold email to the client regarding the job mentioned above describing the capability of XYZ \n",
    "        in fulfilling their needs.\n",
    "        Also add the most relevant ones from the following links to showcase XYZ's portfolio: {link_list}\n",
    "        Remember you are Lokesh, Solutions Specialist at XYZ. \n",
    "        Do not provide a preamble.\n",
    "        ### EMAIL (NO PREAMBLE):\n",
    "        \n",
    "        \"\"\"\n",
    ")\n",
    "\n",
    "\n",
    "chain_email = prompt_email | llm\n",
    "res = chain_email.invoke({\"job_description\": str(job), \"link_list\": links})\n",
    "print(res.content)"
   ]
  },
  {
   "cell_type": "code",
   "execution_count": null,
   "id": "5f7c324e",
   "metadata": {},
   "outputs": [],
   "source": []
  }
 ],
 "metadata": {
  "kernelspec": {
   "display_name": "Python 3 (ipykernel)",
   "language": "python",
   "name": "python3"
  },
  "language_info": {
   "codemirror_mode": {
    "name": "ipython",
    "version": 3
   },
   "file_extension": ".py",
   "mimetype": "text/x-python",
   "name": "python",
   "nbconvert_exporter": "python",
   "pygments_lexer": "ipython3",
   "version": "3.9.13"
  }
 },
 "nbformat": 4,
 "nbformat_minor": 5
}
